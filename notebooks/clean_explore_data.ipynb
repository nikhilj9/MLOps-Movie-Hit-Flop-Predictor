{
 "cells": [
  {
   "cell_type": "code",
   "execution_count": 1,
   "id": "694d8b73",
   "metadata": {},
   "outputs": [],
   "source": [
    "import pandas as pd\n",
    "import ast\n",
    "import mlflow\n",
    "import mlflow.sklearn\n",
    "\n",
    "from sklearn.preprocessing import MultiLabelBinarizer\n",
    "from sklearn.model_selection import train_test_split, GridSearchCV\n",
    "from sklearn.metrics import classification_report\n",
    "from sklearn.discriminant_analysis import StandardScaler\n",
    "from sklearn.ensemble import RandomForestClassifier\n",
    "from sklearn.pipeline import Pipeline"
   ]
  },
  {
   "cell_type": "code",
   "execution_count": null,
   "id": "62f5d3ad-37b8-45f2-9064-587b56ee5a39",
   "metadata": {},
   "outputs": [],
   "source": [
    "def load_data(path: str) -> pd.DataFrame:\n",
    "    df = pd.read_csv(path)\n",
    "    return df"
   ]
  },
  {
   "cell_type": "code",
   "execution_count": 3,
   "id": "44044cef",
   "metadata": {},
   "outputs": [],
   "source": [
    "def preprocess_data(df: pd.DataFrame) -> pd.DataFrame:\n",
    "    \n",
    "    df[\"is_hit\"] = (df[\"revenue\"] >= 2 * df[\"budget\"]).astype(int)\n",
    "    df = df.dropna(subset=[\"is_hit\"])\n",
    "    df = df.drop(columns=[\"poster_path\", \"spoken_languages\", \"production_companies\", \"production_countries\"])\n",
    "    df[\"overview\"] = df[\"overview\"].fillna(\"\")\n",
    "    df[\"genres\"] = df[\"genres\"].fillna(\"[]\").apply(lambda x: [d['name'] for d in ast.literal_eval(x)])\n",
    "    \n",
    "    mlb = MultiLabelBinarizer()\n",
    "    genre_df = pd.DataFrame(mlb.fit_transform(df[\"genres\"]), columns=mlb.classes_, index=df.index)\n",
    "    df = pd.concat([df.drop(columns=[\"genres\"]), genre_df], axis=1)\n",
    "    \n",
    "    return df"
   ]
  },
  {
   "cell_type": "code",
   "execution_count": 4,
   "id": "d6b774ec",
   "metadata": {},
   "outputs": [],
   "source": [
    "def train_model(df: pd.DataFrame, genre_cols):\n",
    "    feature_cols = ['budget', 'runtime'] + [col for col in df.columns if col in genre_cols]\n",
    "    target_col = 'is_hit'\n",
    "\n",
    "    X = df[feature_cols]\n",
    "    y = df[target_col]\n",
    "\n",
    "    X_train, X_test, y_train, y_test = train_test_split(X, y, test_size=0.2, random_state=42, stratify=y)\n",
    "\n",
    "    pipe = Pipeline([\n",
    "        (\"scaler\", StandardScaler()),  # optional for RF, can remove if desired\n",
    "        (\"model\", RandomForestClassifier(random_state=42))\n",
    "    ])\n",
    "\n",
    "    param_grid = {\n",
    "        \"model__n_estimators\": [50, 100, 200],\n",
    "        \"model__max_depth\": [None, 10, 20],\n",
    "        \"model__min_samples_split\": [2, 5],\n",
    "        \"model__class_weight\": [\"balanced\"]\n",
    "    }\n",
    "\n",
    "    grid_search = GridSearchCV(pipe, param_grid, cv=5, scoring=\"f1\", verbose=1, n_jobs=-1)\n",
    "    grid_search.fit(X_train, y_train)\n",
    "\n",
    "    best_model = grid_search.best_estimator_\n",
    "    y_pred = best_model.predict(X_test)\n",
    "    report = classification_report(y_test, y_pred, output_dict=True)\n",
    "\n",
    "    return best_model, report, grid_search.best_params_\n"
   ]
  },
  {
   "cell_type": "code",
   "execution_count": 5,
   "id": "c7ac8dd3",
   "metadata": {},
   "outputs": [],
   "source": [
    "def main():\n",
    "    mlflow.set_tracking_uri(\"file:///workspaces/MLOps-Movie-Hit-Flop-Predictor/notebooks/mlruns\")\n",
    "    mlflow.set_experiment(\"movie-hit-flop-exp\")\n",
    "\n",
    "    with mlflow.start_run():\n",
    "        df = load_data(\"../data/popular_movies.csv\")\n",
    "\n",
    "        genre_cols = ['Action', 'Adventure', 'Animation', 'Comedy', 'Crime', 'Documentary',\n",
    "              'Drama', 'Family', 'Fantasy', 'History', 'Horror', 'Music', 'Mystery',\n",
    "              'Romance', 'Science Fiction', 'TV Movie', 'Thriller', 'War', 'Western']\n",
    "        \n",
    "        df = preprocess_data(df)\n",
    "        model, report, best_params = train_model(df, genre_cols)\n",
    "\n",
    "        mlflow.log_metrics({\n",
    "            \"precision\": report[\"1\"][\"precision\"],\n",
    "            \"recall\": report[\"1\"][\"recall\"],\n",
    "            \"f1\": report[\"1\"][\"f1-score\"],\n",
    "            \"accuracy\": report[\"accuracy\"]\n",
    "        })\n",
    "\n",
    "        feature_cols = ['budget', 'runtime'] + [col for col in df.columns if col in genre_cols]\n",
    "\n",
    "        input_example = df[feature_cols].iloc[[0]]\n",
    "        signature = mlflow.models.infer_signature(input_example, model.predict(input_example))\n",
    "\n",
    "        mlflow.log_params(best_params)\n",
    "        mlflow.sklearn.log_model(model, name=\"model\", input_example=input_example, signature=signature)\n",
    "\n",
    "        print(input_example)\n",
    "        print(f\"Prediction \",model.predict(input_example))"
   ]
  },
  {
   "cell_type": "code",
   "execution_count": 6,
   "id": "dc8a47eb",
   "metadata": {},
   "outputs": [
    {
     "name": "stdout",
     "output_type": "stream",
     "text": [
      "Fitting 5 folds for each of 18 candidates, totalling 90 fits\n"
     ]
    },
    {
     "name": "stderr",
     "output_type": "stream",
     "text": [
      "/workspaces/MLOps-Movie-Hit-Flop-Predictor/venv/lib/python3.12/site-packages/mlflow/types/utils.py:452: UserWarning: Hint: Inferred schema contains integer column(s). Integer columns in Python cannot represent missing values. If your input data contains missing values at inference time, it will be encoded as floats and will cause a schema enforcement error. The best way to avoid this problem is to infer the model schema based on a realistic data sample (training dataset) that includes missing values. Alternatively, you can declare integer columns as doubles (float64) whenever these columns may have missing values. See `Handling Integers With Missing Values <https://www.mlflow.org/docs/latest/models.html#handling-integers-with-missing-values>`_ for more details.\n",
      "  warnings.warn(\n"
     ]
    },
    {
     "name": "stdout",
     "output_type": "stream",
     "text": [
      "     budget  runtime  Action  Adventure  Animation  Comedy  Crime  \\\n",
      "0  50000000      110       0          0          0       0      0   \n",
      "\n",
      "   Documentary  Drama  Family  ...  History  Horror  Music  Mystery  Romance  \\\n",
      "0            0      0       0  ...        0       1      0        1        0   \n",
      "\n",
      "   Science Fiction  TV Movie  Thriller  War  Western  \n",
      "0                0         0         0    0        0  \n",
      "\n",
      "[1 rows x 21 columns]\n",
      "Prediction  [1]\n"
     ]
    }
   ],
   "source": [
    "if __name__ == \"__main__\":\n",
    "    main()"
   ]
  }
 ],
 "metadata": {
  "kernelspec": {
   "display_name": "venv",
   "language": "python",
   "name": "python3"
  },
  "language_info": {
   "codemirror_mode": {
    "name": "ipython",
    "version": 3
   },
   "file_extension": ".py",
   "mimetype": "text/x-python",
   "name": "python",
   "nbconvert_exporter": "python",
   "pygments_lexer": "ipython3",
   "version": "3.12.1"
  }
 },
 "nbformat": 4,
 "nbformat_minor": 5
}
